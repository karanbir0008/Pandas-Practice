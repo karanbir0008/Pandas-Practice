{
 "cells": [
  {
   "cell_type": "code",
   "execution_count": 1,
   "id": "53f22b75-2acf-4d10-8223-724fb798bbf5",
   "metadata": {},
   "outputs": [
    {
     "name": "stdout",
     "output_type": "stream",
     "text": [
      "a    10\n",
      "b    20\n",
      "c    30\n",
      "d    40\n",
      "e    50\n",
      "dtype: int64\n"
     ]
    }
   ],
   "source": [
    "'''Create a Pandas Series from a Python list [10,20,30,40,50] with custom indexes ['a','b','c','d','e'].\n",
    "\n",
    "Retrieve element 'c'.\n",
    "\n",
    "Slice from 'b' to 'd'.'''\n",
    "import pandas as pd\n",
    "\n",
    "given_list = [10,20,30,40,50]\n",
    "series = pd.Series(given_list,index = ['a','b','c','d','e'] )\n",
    "print(series)"
   ]
  },
  {
   "cell_type": "code",
   "execution_count": 3,
   "id": "ec2125f2-b425-4324-8fd0-44843e859089",
   "metadata": {},
   "outputs": [
    {
     "name": "stdout",
     "output_type": "stream",
     "text": [
      "30\n"
     ]
    }
   ],
   "source": [
    "print(series[\"c\"])"
   ]
  },
  {
   "cell_type": "code",
   "execution_count": 6,
   "id": "0857bb63-8c52-4018-88a1-aa3d9f75c4f2",
   "metadata": {},
   "outputs": [
    {
     "data": {
      "text/plain": [
       "b    20\n",
       "c    30\n",
       "d    40\n",
       "dtype: int64"
      ]
     },
     "execution_count": 6,
     "metadata": {},
     "output_type": "execute_result"
    }
   ],
   "source": [
    "series.loc['b':'d']"
   ]
  },
  {
   "cell_type": "code",
   "execution_count": 8,
   "id": "7e32731e-f0d8-44aa-9375-03ee4c0377a1",
   "metadata": {},
   "outputs": [
    {
     "data": {
      "text/plain": [
       "b    20\n",
       "c    30\n",
       "d    40\n",
       "dtype: int64"
      ]
     },
     "execution_count": 8,
     "metadata": {},
     "output_type": "execute_result"
    }
   ],
   "source": [
    "series.iloc[1:4]"
   ]
  },
  {
   "cell_type": "code",
   "execution_count": 13,
   "id": "101c6851-b0ae-403d-8fa4-677c1b72b35d",
   "metadata": {},
   "outputs": [
    {
     "name": "stdout",
     "output_type": "stream",
     "text": [
      "      name  age city\n",
      "0    alice   10    A\n",
      "1      bob   20    B\n",
      "2  charlie   30    C\n",
      "3    david   40    D\n",
      "4      eve   50    E\n",
      "*******************\n",
      "0    10\n",
      "1    20\n",
      "2    30\n",
      "3    40\n",
      "4    50\n",
      "Name: age, dtype: int64\n"
     ]
    }
   ],
   "source": [
    "'''Create a DataFrame with columns: Name, Age, City. Fill it with 5 rows of data.\n",
    "\n",
    "Select the Age column as a Series.\n",
    "\n",
    "Select rows where Age > 25.\n",
    "\n",
    "Retrieve the first 3 rows.'''\n",
    "\n",
    "name = ['alice','bob','charlie','david','eve']\n",
    "age = [10,20,30,40,50]\n",
    "city = ['A','B','C','D','E']\n",
    "\n",
    "details = {\"name\":name,\n",
    "          \"age\":age,\n",
    "          \"city\":city}\n",
    "\n",
    "table1 = pd.DataFrame(details)\n",
    "print(table1)\n",
    "\n"
   ]
  },
  {
   "cell_type": "code",
   "execution_count": 14,
   "id": "b42fd12a-4a7c-49ca-b687-b4c56019540d",
   "metadata": {},
   "outputs": [
    {
     "name": "stdout",
     "output_type": "stream",
     "text": [
      "0    10\n",
      "1    20\n",
      "2    30\n",
      "3    40\n",
      "4    50\n",
      "Name: age, dtype: int64\n"
     ]
    }
   ],
   "source": [
    "print(table1[\"age\"])"
   ]
  },
  {
   "cell_type": "code",
   "execution_count": 15,
   "id": "5ade69e6-fad8-4e7e-92be-8dfdc759fc35",
   "metadata": {},
   "outputs": [
    {
     "data": {
      "text/html": [
       "<div>\n",
       "<style scoped>\n",
       "    .dataframe tbody tr th:only-of-type {\n",
       "        vertical-align: middle;\n",
       "    }\n",
       "\n",
       "    .dataframe tbody tr th {\n",
       "        vertical-align: top;\n",
       "    }\n",
       "\n",
       "    .dataframe thead th {\n",
       "        text-align: right;\n",
       "    }\n",
       "</style>\n",
       "<table border=\"1\" class=\"dataframe\">\n",
       "  <thead>\n",
       "    <tr style=\"text-align: right;\">\n",
       "      <th></th>\n",
       "      <th>name</th>\n",
       "      <th>age</th>\n",
       "      <th>city</th>\n",
       "    </tr>\n",
       "  </thead>\n",
       "  <tbody>\n",
       "    <tr>\n",
       "      <th>2</th>\n",
       "      <td>charlie</td>\n",
       "      <td>30</td>\n",
       "      <td>C</td>\n",
       "    </tr>\n",
       "    <tr>\n",
       "      <th>3</th>\n",
       "      <td>david</td>\n",
       "      <td>40</td>\n",
       "      <td>D</td>\n",
       "    </tr>\n",
       "    <tr>\n",
       "      <th>4</th>\n",
       "      <td>eve</td>\n",
       "      <td>50</td>\n",
       "      <td>E</td>\n",
       "    </tr>\n",
       "  </tbody>\n",
       "</table>\n",
       "</div>"
      ],
      "text/plain": [
       "      name  age city\n",
       "2  charlie   30    C\n",
       "3    david   40    D\n",
       "4      eve   50    E"
      ]
     },
     "execution_count": 15,
     "metadata": {},
     "output_type": "execute_result"
    }
   ],
   "source": [
    "table1[table1['age']>25]"
   ]
  },
  {
   "cell_type": "code",
   "execution_count": 16,
   "id": "e4eab4e9-5160-4716-9341-3968bc0248c0",
   "metadata": {},
   "outputs": [
    {
     "data": {
      "text/html": [
       "<div>\n",
       "<style scoped>\n",
       "    .dataframe tbody tr th:only-of-type {\n",
       "        vertical-align: middle;\n",
       "    }\n",
       "\n",
       "    .dataframe tbody tr th {\n",
       "        vertical-align: top;\n",
       "    }\n",
       "\n",
       "    .dataframe thead th {\n",
       "        text-align: right;\n",
       "    }\n",
       "</style>\n",
       "<table border=\"1\" class=\"dataframe\">\n",
       "  <thead>\n",
       "    <tr style=\"text-align: right;\">\n",
       "      <th></th>\n",
       "      <th>name</th>\n",
       "      <th>age</th>\n",
       "      <th>city</th>\n",
       "    </tr>\n",
       "  </thead>\n",
       "  <tbody>\n",
       "    <tr>\n",
       "      <th>2</th>\n",
       "      <td>charlie</td>\n",
       "      <td>30</td>\n",
       "      <td>C</td>\n",
       "    </tr>\n",
       "    <tr>\n",
       "      <th>3</th>\n",
       "      <td>david</td>\n",
       "      <td>40</td>\n",
       "      <td>D</td>\n",
       "    </tr>\n",
       "    <tr>\n",
       "      <th>4</th>\n",
       "      <td>eve</td>\n",
       "      <td>50</td>\n",
       "      <td>E</td>\n",
       "    </tr>\n",
       "  </tbody>\n",
       "</table>\n",
       "</div>"
      ],
      "text/plain": [
       "      name  age city\n",
       "2  charlie   30    C\n",
       "3    david   40    D\n",
       "4      eve   50    E"
      ]
     },
     "execution_count": 16,
     "metadata": {},
     "output_type": "execute_result"
    }
   ],
   "source": [
    "table1.query(\"age>25\")"
   ]
  },
  {
   "cell_type": "code",
   "execution_count": 17,
   "id": "1ba5614b-6ac0-4f90-9971-ec1f67c859ec",
   "metadata": {},
   "outputs": [
    {
     "data": {
      "text/html": [
       "<div>\n",
       "<style scoped>\n",
       "    .dataframe tbody tr th:only-of-type {\n",
       "        vertical-align: middle;\n",
       "    }\n",
       "\n",
       "    .dataframe tbody tr th {\n",
       "        vertical-align: top;\n",
       "    }\n",
       "\n",
       "    .dataframe thead th {\n",
       "        text-align: right;\n",
       "    }\n",
       "</style>\n",
       "<table border=\"1\" class=\"dataframe\">\n",
       "  <thead>\n",
       "    <tr style=\"text-align: right;\">\n",
       "      <th></th>\n",
       "      <th>name</th>\n",
       "      <th>age</th>\n",
       "      <th>city</th>\n",
       "    </tr>\n",
       "  </thead>\n",
       "  <tbody>\n",
       "    <tr>\n",
       "      <th>0</th>\n",
       "      <td>alice</td>\n",
       "      <td>10</td>\n",
       "      <td>A</td>\n",
       "    </tr>\n",
       "    <tr>\n",
       "      <th>1</th>\n",
       "      <td>bob</td>\n",
       "      <td>20</td>\n",
       "      <td>B</td>\n",
       "    </tr>\n",
       "    <tr>\n",
       "      <th>2</th>\n",
       "      <td>charlie</td>\n",
       "      <td>30</td>\n",
       "      <td>C</td>\n",
       "    </tr>\n",
       "  </tbody>\n",
       "</table>\n",
       "</div>"
      ],
      "text/plain": [
       "      name  age city\n",
       "0    alice   10    A\n",
       "1      bob   20    B\n",
       "2  charlie   30    C"
      ]
     },
     "execution_count": 17,
     "metadata": {},
     "output_type": "execute_result"
    }
   ],
   "source": [
    "table1.loc[0:2]"
   ]
  },
  {
   "cell_type": "code",
   "execution_count": 18,
   "id": "ba6ff8c2-c1b8-40ef-ab3c-cbaf2e613814",
   "metadata": {},
   "outputs": [
    {
     "name": "stdout",
     "output_type": "stream",
     "text": [
      "  Product  Price  Quantity\n",
      "0       A    100         5\n",
      "1       B    200         3\n",
      "2       C    150         4\n"
     ]
    }
   ],
   "source": [
    "# it is question number 3\n",
    "\n",
    "data = {\"Product\": [\"A\",\"B\",\"C\"], \"Price\":[100,200,150], \"Quantity\":[5,3,4]}\n",
    "\n",
    "table1 = pd.DataFrame(data)\n",
    "print(table1)"
   ]
  },
  {
   "cell_type": "code",
   "execution_count": 19,
   "id": "c6769ba0-73a8-4302-9546-0285da799efe",
   "metadata": {},
   "outputs": [
    {
     "name": "stdout",
     "output_type": "stream",
     "text": [
      "  Product  Price  Quantity  total\n",
      "0       A    100         5    500\n",
      "1       B    200         3    600\n",
      "2       C    150         4    600\n"
     ]
    }
   ],
   "source": [
    "table1[\"total\"] = table1[\"Price\"]*table1[\"Quantity\"]\n",
    "print(table1)"
   ]
  },
  {
   "cell_type": "code",
   "execution_count": 23,
   "id": "f5ec7119-bb33-47ce-8fe2-2165a68eda66",
   "metadata": {},
   "outputs": [
    {
     "name": "stdout",
     "output_type": "stream",
     "text": [
      "   ID     Name   Age  Gender         City   Salary\n",
      "0   1    Alice  25.0  Female     New York  50000.0\n",
      "1   2      Bob  30.0    Male  los angeles  60000.0\n",
      "2   2      bob  30.0    male  Los Angeles  60000.0\n",
      "3   4  Charlie   NaN    Male      Chicago  70000.0\n",
      "4   5     None  22.0  Female     New York      NaN\n",
      "5   6      Eve  29.0    None       Boston  72000.0\n",
      "6   7    Frank   NaN       F       Boston  80000.0\n",
      "7   8    Grace  40.0       M         None  90000.0\n"
     ]
    }
   ],
   "source": [
    "'''Create a DataFrame with missing values (np.nan).\n",
    "\n",
    "Fill missing values with the column mean.\n",
    "\n",
    "Drop rows with more than 1 missing value.\n",
    "\n",
    "Create a DataFrame with duplicate rows.\n",
    "\n",
    "Drop duplicates.\n",
    "\n",
    "Keep only the last occurrence of duplicates.\n",
    "\n",
    "Rename column \"Age\" → \"Years\".\n",
    "\n",
    "Replace all values Male → M, Female → F.'''\n",
    "\n",
    "\n",
    "import numpy as np\n",
    "data = {\n",
    "    \"ID\": [1, 2, 2, 4, 5, 6, 7, 8],\n",
    "    \"Name\": [\"Alice\", \"Bob\", \"bob\", \"Charlie\", None, \"Eve\", \"Frank\", \"Grace\"],\n",
    "    \"Age\": [25, 30, 30, np.nan, 22, 29, None, 40],\n",
    "    \"Gender\": [\"Female\", \"Male\", \"male\", \"Male\", \"Female\", None, \"F\", \"M\"],\n",
    "    \"City\": [\"New York\", \"los angeles\", \"Los Angeles\", \"Chicago\", \"New York\", \"Boston\", \"Boston\", None],\n",
    "    \"Salary\": [50000, 60000, 60000, 70000, None, 72000, 80000, 90000]\n",
    "}\n",
    "\n",
    "table1 = pd.DataFrame(data)\n",
    "print(table1)"
   ]
  },
  {
   "cell_type": "code",
   "execution_count": 24,
   "id": "ea66dfb0-5b28-4048-b33e-a58f8edec2ea",
   "metadata": {},
   "outputs": [
    {
     "name": "stdout",
     "output_type": "stream",
     "text": [
      "      ID   Name    Age  Gender   City  Salary\n",
      "0  False  False  False   False  False   False\n",
      "1  False  False  False   False  False   False\n",
      "2  False  False  False   False  False   False\n",
      "3  False  False   True   False  False   False\n",
      "4  False   True  False   False  False    True\n",
      "5  False  False  False    True  False   False\n",
      "6  False  False   True   False  False   False\n",
      "7  False  False  False   False   True   False\n"
     ]
    }
   ],
   "source": [
    "print(table1.isnull())"
   ]
  },
  {
   "cell_type": "code",
   "execution_count": 27,
   "id": "2aac34d5-e354-4f76-b377-6b911d8a020b",
   "metadata": {},
   "outputs": [
    {
     "name": "stdout",
     "output_type": "stream",
     "text": [
      "   ID     Name        Age  Gender         City        Salary\n",
      "0   1    Alice  25.000000  Female     New York  50000.000000\n",
      "1   2      Bob  30.000000    Male  los angeles  60000.000000\n",
      "2   2      bob  30.000000    male  Los Angeles  60000.000000\n",
      "3   4  Charlie  29.333333    Male      Chicago  70000.000000\n",
      "4   5     None  22.000000  Female     New York  68857.142857\n",
      "5   6      Eve  29.000000    None       Boston  72000.000000\n",
      "6   7    Frank  29.333333       F       Boston  80000.000000\n",
      "7   8    Grace  40.000000       M         None  90000.000000\n"
     ]
    }
   ],
   "source": [
    "table1[\"Salary\"]=table1[\"Salary\"].fillna(table1[\"Salary\"].mean())\n",
    "table1[\"Age\"]=table1[\"Age\"].fillna(table1[\"Age\"].mean())\n",
    "print(table1)"
   ]
  },
  {
   "cell_type": "code",
   "execution_count": 30,
   "id": "e5b13509-2eed-4378-bf5a-76c72bf375ef",
   "metadata": {},
   "outputs": [
    {
     "name": "stdout",
     "output_type": "stream",
     "text": [
      "   ID     Name        Age  Gender         City        Salary\n",
      "0   1    Alice  25.000000  Female     New York  50000.000000\n",
      "1   2      Bob  30.000000    Male  los angeles  60000.000000\n",
      "2   2      bob  30.000000    male  Los Angeles  60000.000000\n",
      "3   4  Charlie  29.333333    Male      Chicago  70000.000000\n",
      "4   5     None  22.000000  Female     New York  68857.142857\n",
      "5   6      Eve  29.000000    None       Boston  72000.000000\n",
      "6   7    Frank  29.333333       F       Boston  80000.000000\n",
      "7   8    Grace  40.000000       M         None  90000.000000\n"
     ]
    }
   ],
   "source": [
    "table2 = table1.copy().dropna(thresh = len(table1.columns)-1)\n",
    "print(table2)"
   ]
  },
  {
   "cell_type": "code",
   "execution_count": 31,
   "id": "7bf421b5-4690-430f-9d80-45293ab2ca8d",
   "metadata": {},
   "outputs": [
    {
     "name": "stdout",
     "output_type": "stream",
     "text": [
      "   ID     Name        Age  Gender         City   Salary\n",
      "0   1    Alice  25.000000  Female     New York  50000.0\n",
      "1   2      Bob  30.000000    Male  los angeles  60000.0\n",
      "2   2      bob  30.000000    male  Los Angeles  60000.0\n",
      "3   4  Charlie  29.333333    Male      Chicago  70000.0\n",
      "6   7    Frank  29.333333       F       Boston  80000.0\n"
     ]
    }
   ],
   "source": [
    "table3 = table1.copy().dropna()\n",
    "print(table3)"
   ]
  },
  {
   "cell_type": "code",
   "execution_count": 36,
   "id": "0af95c4b-084e-4810-bebf-4a452689a236",
   "metadata": {},
   "outputs": [
    {
     "name": "stdout",
     "output_type": "stream",
     "text": [
      "   ID     Name        Age  Gender         City        Salary\n",
      "0   1    ALICE  25.000000  FEMALE     NEW YORK  50000.000000\n",
      "1   2      BOB  30.000000    MALE  LOS ANGELES  60000.000000\n",
      "2   2      BOB  30.000000    MALE  LOS ANGELES  60000.000000\n",
      "3   4  CHARLIE  29.333333    MALE      CHICAGO  70000.000000\n",
      "4   5     None  22.000000  FEMALE     NEW YORK  68857.142857\n",
      "5   6      EVE  29.000000    None       BOSTON  72000.000000\n",
      "6   7    FRANK  29.333333       F       BOSTON  80000.000000\n",
      "7   8    GRACE  40.000000       M         None  90000.000000\n"
     ]
    }
   ],
   "source": [
    "table4 = table1.copy()\n",
    "table4[\"Name\"] = table4[\"Name\"].str.upper().str.strip()\n",
    "table4[\"Gender\"] = table4[\"Gender\"].str.upper().str.strip()\n",
    "table4[\"City\"] = table4[\"City\"].str.upper().str.strip()\n",
    "print(table4)\n"
   ]
  },
  {
   "cell_type": "code",
   "execution_count": 37,
   "id": "b4ff3036-1fae-45db-9eee-e65f802c6ad6",
   "metadata": {},
   "outputs": [
    {
     "name": "stdout",
     "output_type": "stream",
     "text": [
      "   ID     Name        Age  Gender         City        Salary\n",
      "0   1    ALICE  25.000000  FEMALE     NEW YORK  50000.000000\n",
      "1   2      BOB  30.000000    MALE  LOS ANGELES  60000.000000\n",
      "2   2      BOB  30.000000    MALE  LOS ANGELES  60000.000000\n",
      "3   4  CHARLIE  29.333333    MALE      CHICAGO  70000.000000\n",
      "4   5     None  22.000000  FEMALE     NEW YORK  68857.142857\n",
      "5   6      EVE  29.000000    None       BOSTON  72000.000000\n",
      "6   7    FRANK  29.333333  FEMALE       BOSTON  80000.000000\n",
      "7   8    GRACE  40.000000    MALE         None  90000.000000\n"
     ]
    }
   ],
   "source": [
    "table4[\"Gender\"]= table4[\"Gender\"].replace({\"M\":\"MALE\",\"F\":\"FEMALE\"})\n",
    "print(table4)"
   ]
  },
  {
   "cell_type": "code",
   "execution_count": 38,
   "id": "c37ad8be-a145-4d9f-85ed-dc57f86fe115",
   "metadata": {},
   "outputs": [
    {
     "name": "stdout",
     "output_type": "stream",
     "text": [
      "0    False\n",
      "1    False\n",
      "2     True\n",
      "3    False\n",
      "4    False\n",
      "5    False\n",
      "6    False\n",
      "7    False\n",
      "dtype: bool\n"
     ]
    }
   ],
   "source": [
    "print(table4.duplicated())\n"
   ]
  },
  {
   "cell_type": "code",
   "execution_count": 40,
   "id": "4ed46599-df0a-4c82-b91b-8e9f8c1576da",
   "metadata": {},
   "outputs": [
    {
     "name": "stdout",
     "output_type": "stream",
     "text": [
      "   ID     Name        Age  Gender         City        Salary\n",
      "0   1    ALICE  25.000000  FEMALE     NEW YORK  50000.000000\n",
      "1   2      BOB  30.000000    MALE  LOS ANGELES  60000.000000\n",
      "3   4  CHARLIE  29.333333    MALE      CHICAGO  70000.000000\n",
      "4   5     None  22.000000  FEMALE     NEW YORK  68857.142857\n",
      "5   6      EVE  29.000000    None       BOSTON  72000.000000\n",
      "6   7    FRANK  29.333333  FEMALE       BOSTON  80000.000000\n",
      "7   8    GRACE  40.000000    MALE         None  90000.000000\n"
     ]
    }
   ],
   "source": [
    "table5 = table4.copy().drop_duplicates()\n",
    "print(table5)"
   ]
  },
  {
   "cell_type": "code",
   "execution_count": 43,
   "id": "84551f30-528a-439b-a675-717311b11e49",
   "metadata": {},
   "outputs": [
    {
     "name": "stdout",
     "output_type": "stream",
     "text": [
      "   ID     Name      Years  Gender         City        Salary\n",
      "0   1    ALICE  25.000000  FEMALE     NEW YORK  50000.000000\n",
      "1   2      BOB  30.000000    MALE  LOS ANGELES  60000.000000\n",
      "3   4  CHARLIE  29.333333    MALE      CHICAGO  70000.000000\n",
      "4   5     None  22.000000  FEMALE     NEW YORK  68857.142857\n",
      "5   6      EVE  29.000000    None       BOSTON  72000.000000\n",
      "6   7    FRANK  29.333333  FEMALE       BOSTON  80000.000000\n",
      "7   8    GRACE  40.000000    MALE         None  90000.000000\n"
     ]
    }
   ],
   "source": [
    "table5 = table5.rename(columns = {\"Age\":\"Years\"})\n",
    "print(table5)"
   ]
  },
  {
   "cell_type": "code",
   "execution_count": 44,
   "id": "ad007fe3-064d-4ebb-80a7-f20e189a12fe",
   "metadata": {},
   "outputs": [
    {
     "name": "stdout",
     "output_type": "stream",
     "text": [
      "   ID     Name      Years  Gender         City   Salary\n",
      "0   1    ALICE  25.000000  FEMALE     NEW YORK  50000.0\n",
      "1   2      BOB  30.000000    MALE  LOS ANGELES  60000.0\n",
      "3   4  CHARLIE  29.333333    MALE      CHICAGO  70000.0\n",
      "6   7    FRANK  29.333333  FEMALE       BOSTON  80000.0\n"
     ]
    }
   ],
   "source": [
    "table5 = table5.dropna()\n",
    "print(table5)"
   ]
  },
  {
   "cell_type": "code",
   "execution_count": null,
   "id": "7f652938-c8cf-47c6-8466-2672cb02cc33",
   "metadata": {},
   "outputs": [],
   "source": []
  }
 ],
 "metadata": {
  "kernelspec": {
   "display_name": "Python 3 (ipykernel)",
   "language": "python",
   "name": "python3"
  },
  "language_info": {
   "codemirror_mode": {
    "name": "ipython",
    "version": 3
   },
   "file_extension": ".py",
   "mimetype": "text/x-python",
   "name": "python",
   "nbconvert_exporter": "python",
   "pygments_lexer": "ipython3",
   "version": "3.13.1"
  }
 },
 "nbformat": 4,
 "nbformat_minor": 5
}
