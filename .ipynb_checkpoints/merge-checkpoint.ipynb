{
 "cells": [
  {
   "cell_type": "code",
   "execution_count": 1,
   "id": "95536043-bbff-414d-9527-1a9080411a4d",
   "metadata": {},
   "outputs": [
    {
     "name": "stdout",
     "output_type": "stream",
     "text": [
      "connection made\n"
     ]
    }
   ],
   "source": [
    "import pandas as pd\n",
    "import mysql.connector\n",
    "import os\n",
    "\n",
    "conn = mysql.connector.connect(\n",
    "    host = \"localhost\",\n",
    "    user = os.getenv(\"DB_USER\"),\n",
    "    password = os.getenv(\"DB_PASSWORD\"),\n",
    "    database = \"practice_company\"\n",
    "    \n",
    ")\n",
    "\n",
    "if conn.is_connected :\n",
    "    print(\"connection made\")\n",
    "cursor = conn.cursor()"
   ]
  },
  {
   "cell_type": "code",
   "execution_count": 2,
   "id": "5ac012de-5595-426e-b9a5-54247bd2a314",
   "metadata": {},
   "outputs": [
    {
     "name": "stdout",
     "output_type": "stream",
     "text": [
      "   id           name  age  department_id   salary    status\n",
      "0   1  Alice Johnson   30              1  55000.0    Active\n",
      "1   2      Bob Smith   40              2  80000.0    Active\n",
      "2   3  Charlie Davis   28              2  60000.0  On Leave\n",
      "3   4   Diana Prince   35              3  75000.0    Active\n",
      "********************************\n",
      "   id     name       location\n",
      "0   1       HR       New York\n",
      "1   2       IT  San Francisco\n",
      "2   3  Finance        Chicago\n"
     ]
    },
    {
     "name": "stderr",
     "output_type": "stream",
     "text": [
      "C:\\Users\\Karanbir\\AppData\\Local\\Temp\\ipykernel_5432\\388798512.py:1: UserWarning: pandas only supports SQLAlchemy connectable (engine/connection) or database string URI or sqlite3 DBAPI2 connection. Other DBAPI2 objects are not tested. Please consider using SQLAlchemy.\n",
      "  employees = pd.read_sql(\"select * from employees\",conn)\n",
      "C:\\Users\\Karanbir\\AppData\\Local\\Temp\\ipykernel_5432\\388798512.py:6: UserWarning: pandas only supports SQLAlchemy connectable (engine/connection) or database string URI or sqlite3 DBAPI2 connection. Other DBAPI2 objects are not tested. Please consider using SQLAlchemy.\n",
      "  departments =  pd.read_sql(\"select * from departments\",conn)\n"
     ]
    }
   ],
   "source": [
    "employees = pd.read_sql(\"select * from employees\",conn)\n",
    "print(employees)\n",
    "\n",
    "print(\"********************************\")\n",
    "\n",
    "departments =  pd.read_sql(\"select * from departments\",conn)\n",
    "print(departments)\n"
   ]
  },
  {
   "cell_type": "code",
   "execution_count": 3,
   "id": "597690da-9a47-405d-92dc-43089e800838",
   "metadata": {},
   "outputs": [
    {
     "name": "stdout",
     "output_type": "stream",
     "text": [
      "   id_x         name_x  age  department_id   salary    status  id_y   name_y  \\\n",
      "0     1  Alice Johnson   30              1  55000.0    Active     1       HR   \n",
      "1     2      Bob Smith   40              2  80000.0    Active     2       IT   \n",
      "2     3  Charlie Davis   28              2  60000.0  On Leave     2       IT   \n",
      "3     4   Diana Prince   35              3  75000.0    Active     3  Finance   \n",
      "\n",
      "        location  \n",
      "0       New York  \n",
      "1  San Francisco  \n",
      "2  San Francisco  \n",
      "3        Chicago  \n"
     ]
    }
   ],
   "source": [
    "employee_department = pd.merge(employees,departments,left_on = \"department_id\",right_on = \"id\", how = \"inner\")\n",
    "print(employee_department)"
   ]
  },
  {
   "cell_type": "code",
   "execution_count": null,
   "id": "161fc7d9-45a9-4ec1-92d5-d71a530ce752",
   "metadata": {},
   "outputs": [],
   "source": []
  }
 ],
 "metadata": {
  "kernelspec": {
   "display_name": "Python 3 (ipykernel)",
   "language": "python",
   "name": "python3"
  },
  "language_info": {
   "codemirror_mode": {
    "name": "ipython",
    "version": 3
   },
   "file_extension": ".py",
   "mimetype": "text/x-python",
   "name": "python",
   "nbconvert_exporter": "python",
   "pygments_lexer": "ipython3",
   "version": "3.13.1"
  }
 },
 "nbformat": 4,
 "nbformat_minor": 5
}
