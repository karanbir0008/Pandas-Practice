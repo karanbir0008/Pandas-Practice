{
 "cells": [
  {
   "cell_type": "code",
   "execution_count": 3,
   "id": "6d63c67d-bc82-4e27-87f8-c5cb419a7abc",
   "metadata": {},
   "outputs": [
    {
     "name": "stdout",
     "output_type": "stream",
     "text": [
      "   survived  pclass     sex   age  sibsp  parch     fare embarked  class  \\\n",
      "0         0       3    male  22.0      1      0   7.2500        S  Third   \n",
      "1         1       1  female  38.0      1      0  71.2833        C  First   \n",
      "2         1       3  female  26.0      0      0   7.9250        S  Third   \n",
      "3         1       1  female  35.0      1      0  53.1000        S  First   \n",
      "4         0       3    male  35.0      0      0   8.0500        S  Third   \n",
      "\n",
      "     who  adult_male deck  embark_town alive  alone  \n",
      "0    man        True  NaN  Southampton    no  False  \n",
      "1  woman       False    C    Cherbourg   yes  False  \n",
      "2  woman       False  NaN  Southampton   yes   True  \n",
      "3  woman       False    C  Southampton   yes  False  \n",
      "4    man        True  NaN  Southampton    no   True  \n"
     ]
    }
   ],
   "source": [
    "'''Load the Titanic dataset (sns.load_dataset(\"titanic\") if using seaborn).\n",
    "\n",
    "Select all passengers who survived and were female.\n",
    "\n",
    "Select first 10 rows of only ['survived','sex','age'].\n",
    "\n",
    "Get passengers older than 60.'''\n",
    "\n",
    "\n",
    "\n",
    "import pandas as pd\n",
    "import seaborn as sns\n",
    "\n",
    "titanic = sns.load_dataset(\"titanic\")\n",
    "print(titanic.head())"
   ]
  },
  {
   "cell_type": "code",
   "execution_count": 4,
   "id": "eb73a545-4df2-44cd-b30d-ea933be7c156",
   "metadata": {},
   "outputs": [
    {
     "name": "stdout",
     "output_type": "stream",
     "text": [
      "   survived  pclass     sex   age  sibsp  parch     fare embarked   class  \\\n",
      "1         1       1  female  38.0      1      0  71.2833        C   First   \n",
      "2         1       3  female  26.0      0      0   7.9250        S   Third   \n",
      "3         1       1  female  35.0      1      0  53.1000        S   First   \n",
      "8         1       3  female  27.0      0      2  11.1333        S   Third   \n",
      "9         1       2  female  14.0      1      0  30.0708        C  Second   \n",
      "\n",
      "     who  adult_male deck  embark_town alive  alone  \n",
      "1  woman       False    C    Cherbourg   yes  False  \n",
      "2  woman       False  NaN  Southampton   yes   True  \n",
      "3  woman       False    C  Southampton   yes  False  \n",
      "8  woman       False  NaN  Southampton   yes  False  \n",
      "9  child       False  NaN    Cherbourg   yes  False  \n"
     ]
    }
   ],
   "source": [
    "ans1 = titanic[(titanic[\"survived\"]==1) & (titanic[\"sex\"]==\"female\")]\n",
    "print(ans1.head())"
   ]
  },
  {
   "cell_type": "code",
   "execution_count": 5,
   "id": "bdaa1242-7ed3-487b-b634-a0bec0ae5908",
   "metadata": {},
   "outputs": [
    {
     "name": "stdout",
     "output_type": "stream",
     "text": [
      "   survived     sex   age\n",
      "0         0    male  22.0\n",
      "1         1  female  38.0\n",
      "2         1  female  26.0\n",
      "3         1  female  35.0\n",
      "4         0    male  35.0\n",
      "5         0    male   NaN\n",
      "6         0    male  54.0\n",
      "7         0    male   2.0\n",
      "8         1  female  27.0\n",
      "9         1  female  14.0\n"
     ]
    }
   ],
   "source": [
    "ans2 = titanic[['survived','sex','age']]\n",
    "print(ans2.head(10))"
   ]
  },
  {
   "cell_type": "code",
   "execution_count": 6,
   "id": "1138261e-a49a-46c7-a283-4641d3799ac5",
   "metadata": {},
   "outputs": [
    {
     "name": "stdout",
     "output_type": "stream",
     "text": [
      "     survived  pclass   sex   age  sibsp  parch     fare embarked   class  \\\n",
      "33          0       2  male  66.0      0      0  10.5000        S  Second   \n",
      "54          0       1  male  65.0      0      1  61.9792        C   First   \n",
      "96          0       1  male  71.0      0      0  34.6542        C   First   \n",
      "116         0       3  male  70.5      0      0   7.7500        Q   Third   \n",
      "170         0       1  male  61.0      0      0  33.5000        S   First   \n",
      "\n",
      "     who  adult_male deck  embark_town alive  alone  \n",
      "33   man        True  NaN  Southampton    no   True  \n",
      "54   man        True    B    Cherbourg    no  False  \n",
      "96   man        True    A    Cherbourg    no   True  \n",
      "116  man        True  NaN   Queenstown    no   True  \n",
      "170  man        True    B  Southampton    no   True  \n"
     ]
    }
   ],
   "source": [
    "ans3 = titanic[titanic[\"age\"]>60]\n",
    "print(ans3.head())"
   ]
  },
  {
   "cell_type": "code",
   "execution_count": 7,
   "id": "7b4aa29e-26b8-4975-b09b-c4e818add82c",
   "metadata": {},
   "outputs": [
    {
     "name": "stdout",
     "output_type": "stream",
     "text": [
      "  Store Month  Revenue\n",
      "0     A   Jan      200\n",
      "1     A   Feb      220\n",
      "2     B   Jan      250\n",
      "3     B   Feb      270\n",
      "4     C   Jan      300\n"
     ]
    }
   ],
   "source": [
    "'''Filter rows where Revenue > 250.\n",
    "\n",
    "Select revenue of Store B in Feb.'''\n",
    "\n",
    "\n",
    "sales = {\"Store\":[\"A\",\"A\",\"B\",\"B\",\"C\"],\n",
    "         \"Month\":[\"Jan\",\"Feb\",\"Jan\",\"Feb\",\"Jan\"],\n",
    "         \"Revenue\":[200,220,250,270,300]}\n",
    "\n",
    "df = pd.DataFrame(sales)\n",
    "print(df)"
   ]
  },
  {
   "cell_type": "code",
   "execution_count": 8,
   "id": "a8e37bb8-2e9e-49e9-8664-5ed1933ffc4a",
   "metadata": {},
   "outputs": [
    {
     "name": "stdout",
     "output_type": "stream",
     "text": [
      "  Store Month  Revenue\n",
      "3     B   Feb      270\n",
      "4     C   Jan      300\n"
     ]
    }
   ],
   "source": [
    "ans1 = df[df[\"Revenue\"]>250]\n",
    "print(ans1)"
   ]
  },
  {
   "cell_type": "code",
   "execution_count": 9,
   "id": "9b6f3507-be7f-4b94-abb1-d34eda0f03e7",
   "metadata": {},
   "outputs": [
    {
     "name": "stdout",
     "output_type": "stream",
     "text": [
      "  Store Month  Revenue\n",
      "3     B   Feb      270\n"
     ]
    }
   ],
   "source": [
    "ans2 = df[(df[\"Store\"]==\"B\")&(df[\"Month\"]==\"Feb\")]\n",
    "print(ans2)"
   ]
  },
  {
   "cell_type": "code",
   "execution_count": 25,
   "id": "bccab520-9a23-4f21-b345-c679615396f4",
   "metadata": {},
   "outputs": [
    {
     "name": "stdout",
     "output_type": "stream",
     "text": [
      "  Store  Revenue\n",
      "0     A      420\n",
      "1     B      520\n",
      "2     C      300\n",
      "  Month  Revenue\n",
      "0   Feb    245.0\n",
      "1   Jan    250.0\n"
     ]
    }
   ],
   "source": [
    "'''From the sales DataFrame above:\n",
    "\n",
    "Find total revenue by each Store.\n",
    "\n",
    "Find average revenue per Month.'''\n",
    "\n",
    "sales = {\"Store\":[\"A\",\"A\",\"B\",\"B\",\"C\"],\n",
    "         \"Month\":[\"Jan\",\"Feb\",\"Jan\",\"Feb\",\"Jan\"],\n",
    "         \"Revenue\":[200,220,250,270,300]}\n",
    "\n",
    "table = pd.DataFrame(sales)\n",
    "\n",
    "total_revenue_by_stores = table.groupby(\"Store\",as_index=False).agg(\"sum\")\n",
    "print(total_revenue_by_stores[[\"Store\",\"Revenue\"]])\n",
    "\n",
    "month_rev_table = table[[\"Month\",\"Revenue\"]].copy()\n",
    "avg_revenue_per_month = month_rev_table.groupby(\"Month\",as_index = False).agg(\"mean\")\n",
    "print(avg_revenue_per_month)"
   ]
  },
  {
   "cell_type": "code",
   "execution_count": 30,
   "id": "223ada8c",
   "metadata": {},
   "outputs": [
    {
     "name": "stdout",
     "output_type": "stream",
     "text": [
      "    class        age\n",
      "0   First  38.233441\n",
      "1  Second  29.877630\n",
      "2   Third  25.140620\n"
     ]
    },
    {
     "name": "stderr",
     "output_type": "stream",
     "text": [
      "C:\\Users\\Karanbir\\AppData\\Local\\Temp\\ipykernel_20212\\123700510.py:10: FutureWarning: The default of observed=False is deprecated and will be changed to True in a future version of pandas. Pass observed=False to retain current behavior or observed=True to adopt the future default and silence this warning.\n",
      "  avg_age_class_wise = class_age.groupby(\"class\",as_index=False).agg(\"mean\")\n"
     ]
    }
   ],
   "source": [
    "'''Titanic dataset:\n",
    "\n",
    "Find average age by passenger class (pclass).\n",
    "\n",
    "Count number of survivors by gender.\n",
    "\n",
    "Find min & max fare paid in each class.'''\n",
    "\n",
    "class_age = titanic[[\"class\",\"age\"]].copy()\n",
    "avg_age_class_wise = class_age.groupby(\"class\",as_index=False).agg(\"mean\")\n",
    "print(avg_age_class_wise)"
   ]
  },
  {
   "cell_type": "code",
   "execution_count": 31,
   "id": "7026dab3",
   "metadata": {},
   "outputs": [
    {
     "name": "stdout",
     "output_type": "stream",
     "text": [
      "   survived  pclass     sex   age  sibsp  parch     fare embarked  class  \\\n",
      "0         0       3    male  22.0      1      0   7.2500        S  Third   \n",
      "1         1       1  female  38.0      1      0  71.2833        C  First   \n",
      "2         1       3  female  26.0      0      0   7.9250        S  Third   \n",
      "3         1       1  female  35.0      1      0  53.1000        S  First   \n",
      "4         0       3    male  35.0      0      0   8.0500        S  Third   \n",
      "\n",
      "     who  adult_male deck  embark_town alive  alone  \n",
      "0    man        True  NaN  Southampton    no  False  \n",
      "1  woman       False    C    Cherbourg   yes  False  \n",
      "2  woman       False  NaN  Southampton   yes   True  \n",
      "3  woman       False    C  Southampton   yes  False  \n",
      "4    man        True  NaN  Southampton    no   True  \n"
     ]
    }
   ],
   "source": [
    "print(titanic.head())"
   ]
  },
  {
   "cell_type": "code",
   "execution_count": 33,
   "id": "fafef70d",
   "metadata": {},
   "outputs": [
    {
     "name": "stdout",
     "output_type": "stream",
     "text": [
      "       survived\n",
      "who            \n",
      "child        83\n",
      "man         537\n",
      "woman       271\n"
     ]
    }
   ],
   "source": [
    "gender_survived = titanic[[\"who\",\"survived\"]].copy()\n",
    "sur_by_gen = gender_survived.groupby(\"who\").agg(\"count\")\n",
    "print(sur_by_gen)"
   ]
  },
  {
   "cell_type": "code",
   "execution_count": 37,
   "id": "bcdc5df6",
   "metadata": {},
   "outputs": [
    {
     "name": "stdout",
     "output_type": "stream",
     "text": [
      "    class  max_fare  min_fare\n",
      "0   First  512.3292       0.0\n",
      "1  Second   73.5000       0.0\n",
      "2   Third   69.5500       0.0\n"
     ]
    },
    {
     "name": "stderr",
     "output_type": "stream",
     "text": [
      "C:\\Users\\Karanbir\\AppData\\Local\\Temp\\ipykernel_20212\\2131329383.py:1: FutureWarning: The default of observed=False is deprecated and will be changed to True in a future version of pandas. Pass observed=False to retain current behavior or observed=True to adopt the future default and silence this warning.\n",
      "  class_wise_fare = titanic.groupby(\"class\",as_index=False)[\"fare\"].agg(max_fare = \"max\",min_fare = \"min\")\n"
     ]
    }
   ],
   "source": [
    "class_wise_fare = titanic.groupby(\"class\",as_index=False)[\"fare\"].agg(max_fare = \"max\",min_fare = \"min\")\n",
    "print(class_wise_fare)"
   ]
  },
  {
   "cell_type": "code",
   "execution_count": null,
   "id": "c93534da",
   "metadata": {},
   "outputs": [],
   "source": []
  }
 ],
 "metadata": {
  "kernelspec": {
   "display_name": "my_venv",
   "language": "python",
   "name": "python3"
  },
  "language_info": {
   "codemirror_mode": {
    "name": "ipython",
    "version": 3
   },
   "file_extension": ".py",
   "mimetype": "text/x-python",
   "name": "python",
   "nbconvert_exporter": "python",
   "pygments_lexer": "ipython3",
   "version": "3.13.1"
  }
 },
 "nbformat": 4,
 "nbformat_minor": 5
}
