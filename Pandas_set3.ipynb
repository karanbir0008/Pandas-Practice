{
 "cells": [
  {
   "cell_type": "code",
   "execution_count": 2,
   "id": "6d63c67d-bc82-4e27-87f8-c5cb419a7abc",
   "metadata": {},
   "outputs": [
    {
     "name": "stdout",
     "output_type": "stream",
     "text": [
      "   survived  pclass     sex   age  sibsp  parch     fare embarked  class  \\\n",
      "0         0       3    male  22.0      1      0   7.2500        S  Third   \n",
      "1         1       1  female  38.0      1      0  71.2833        C  First   \n",
      "2         1       3  female  26.0      0      0   7.9250        S  Third   \n",
      "3         1       1  female  35.0      1      0  53.1000        S  First   \n",
      "4         0       3    male  35.0      0      0   8.0500        S  Third   \n",
      "\n",
      "     who  adult_male deck  embark_town alive  alone  \n",
      "0    man        True  NaN  Southampton    no  False  \n",
      "1  woman       False    C    Cherbourg   yes  False  \n",
      "2  woman       False  NaN  Southampton   yes   True  \n",
      "3  woman       False    C  Southampton   yes  False  \n",
      "4    man        True  NaN  Southampton    no   True  \n"
     ]
    }
   ],
   "source": [
    "'''Load the Titanic dataset (sns.load_dataset(\"titanic\") if using seaborn).\n",
    "\n",
    "Select all passengers who survived and were female.\n",
    "\n",
    "Select first 10 rows of only ['survived','sex','age'].\n",
    "\n",
    "Get passengers older than 60.'''\n",
    "\n",
    "\n",
    "\n",
    "import pandas as pd\n",
    "import seaborn as sns\n",
    "\n",
    "titanic = sns.load_dataset(\"titanic\")\n",
    "print(titanic.head())"
   ]
  },
  {
   "cell_type": "code",
   "execution_count": 4,
   "id": "eb73a545-4df2-44cd-b30d-ea933be7c156",
   "metadata": {},
   "outputs": [
    {
     "name": "stdout",
     "output_type": "stream",
     "text": [
      "   survived  pclass     sex   age  sibsp  parch     fare embarked   class  \\\n",
      "1         1       1  female  38.0      1      0  71.2833        C   First   \n",
      "2         1       3  female  26.0      0      0   7.9250        S   Third   \n",
      "3         1       1  female  35.0      1      0  53.1000        S   First   \n",
      "8         1       3  female  27.0      0      2  11.1333        S   Third   \n",
      "9         1       2  female  14.0      1      0  30.0708        C  Second   \n",
      "\n",
      "     who  adult_male deck  embark_town alive  alone  \n",
      "1  woman       False    C    Cherbourg   yes  False  \n",
      "2  woman       False  NaN  Southampton   yes   True  \n",
      "3  woman       False    C  Southampton   yes  False  \n",
      "8  woman       False  NaN  Southampton   yes  False  \n",
      "9  child       False  NaN    Cherbourg   yes  False  \n"
     ]
    }
   ],
   "source": [
    "ans1 = titanic[(titanic[\"survived\"]==1) & (titanic[\"sex\"]==\"female\")]\n",
    "print(ans1.head())"
   ]
  },
  {
   "cell_type": "code",
   "execution_count": 7,
   "id": "bdaa1242-7ed3-487b-b634-a0bec0ae5908",
   "metadata": {},
   "outputs": [
    {
     "name": "stdout",
     "output_type": "stream",
     "text": [
      "   survived     sex   age\n",
      "0         0    male  22.0\n",
      "1         1  female  38.0\n",
      "2         1  female  26.0\n",
      "3         1  female  35.0\n",
      "4         0    male  35.0\n",
      "5         0    male   NaN\n",
      "6         0    male  54.0\n",
      "7         0    male   2.0\n",
      "8         1  female  27.0\n",
      "9         1  female  14.0\n"
     ]
    }
   ],
   "source": [
    "ans2 = titanic[['survived','sex','age']]\n",
    "print(ans2.head(10))"
   ]
  },
  {
   "cell_type": "code",
   "execution_count": 8,
   "id": "1138261e-a49a-46c7-a283-4641d3799ac5",
   "metadata": {},
   "outputs": [
    {
     "name": "stdout",
     "output_type": "stream",
     "text": [
      "     survived  pclass   sex   age  sibsp  parch     fare embarked   class  \\\n",
      "33          0       2  male  66.0      0      0  10.5000        S  Second   \n",
      "54          0       1  male  65.0      0      1  61.9792        C   First   \n",
      "96          0       1  male  71.0      0      0  34.6542        C   First   \n",
      "116         0       3  male  70.5      0      0   7.7500        Q   Third   \n",
      "170         0       1  male  61.0      0      0  33.5000        S   First   \n",
      "\n",
      "     who  adult_male deck  embark_town alive  alone  \n",
      "33   man        True  NaN  Southampton    no   True  \n",
      "54   man        True    B    Cherbourg    no  False  \n",
      "96   man        True    A    Cherbourg    no   True  \n",
      "116  man        True  NaN   Queenstown    no   True  \n",
      "170  man        True    B  Southampton    no   True  \n"
     ]
    }
   ],
   "source": [
    "ans3 = titanic[titanic[\"age\"]>60]\n",
    "print(ans3.head())"
   ]
  },
  {
   "cell_type": "code",
   "execution_count": 10,
   "id": "7b4aa29e-26b8-4975-b09b-c4e818add82c",
   "metadata": {},
   "outputs": [
    {
     "name": "stdout",
     "output_type": "stream",
     "text": [
      "  Store Month  Revenue\n",
      "0     A   Jan      200\n",
      "1     A   Feb      220\n",
      "2     B   Jan      250\n",
      "3     B   Feb      270\n",
      "4     C   Jan      300\n"
     ]
    }
   ],
   "source": [
    "'''Filter rows where Revenue > 250.\n",
    "\n",
    "Select revenue of Store B in Feb.'''\n",
    "\n",
    "\n",
    "sales = {\"Store\":[\"A\",\"A\",\"B\",\"B\",\"C\"],\n",
    "         \"Month\":[\"Jan\",\"Feb\",\"Jan\",\"Feb\",\"Jan\"],\n",
    "         \"Revenue\":[200,220,250,270,300]}\n",
    "\n",
    "df = pd.DataFrame(sales)\n",
    "print(df)"
   ]
  },
  {
   "cell_type": "code",
   "execution_count": 11,
   "id": "a8e37bb8-2e9e-49e9-8664-5ed1933ffc4a",
   "metadata": {},
   "outputs": [
    {
     "name": "stdout",
     "output_type": "stream",
     "text": [
      "  Store Month  Revenue\n",
      "3     B   Feb      270\n",
      "4     C   Jan      300\n"
     ]
    }
   ],
   "source": [
    "ans1 = df[df[\"Revenue\"]>250]\n",
    "print(ans1)"
   ]
  },
  {
   "cell_type": "code",
   "execution_count": 13,
   "id": "9b6f3507-be7f-4b94-abb1-d34eda0f03e7",
   "metadata": {},
   "outputs": [
    {
     "name": "stdout",
     "output_type": "stream",
     "text": [
      "  Store Month  Revenue\n",
      "3     B   Feb      270\n"
     ]
    }
   ],
   "source": [
    "ans2 = df[(df[\"Store\"]==\"B\")&(df[\"Month\"]==\"Feb\")]\n",
    "print(ans2)"
   ]
  },
  {
   "cell_type": "code",
   "execution_count": null,
   "id": "bccab520-9a23-4f21-b345-c679615396f4",
   "metadata": {},
   "outputs": [],
   "source": []
  }
 ],
 "metadata": {
  "kernelspec": {
   "display_name": "Python 3 (ipykernel)",
   "language": "python",
   "name": "python3"
  },
  "language_info": {
   "codemirror_mode": {
    "name": "ipython",
    "version": 3
   },
   "file_extension": ".py",
   "mimetype": "text/x-python",
   "name": "python",
   "nbconvert_exporter": "python",
   "pygments_lexer": "ipython3",
   "version": "3.13.1"
  }
 },
 "nbformat": 4,
 "nbformat_minor": 5
}
