{
 "cells": [
  {
   "cell_type": "code",
   "execution_count": 1,
   "id": "672ed789",
   "metadata": {},
   "outputs": [
    {
     "name": "stdout",
     "output_type": "stream",
     "text": [
      "   ID     Name\n",
      "0   1    Alice\n",
      "1   2      Bob\n",
      "2   3  Charlie\n",
      "   ID  Score\n",
      "0   1     85\n",
      "1   2     90\n",
      "2   4     95\n"
     ]
    }
   ],
   "source": [
    "import pandas as pd\n",
    "'''df1 = {\"ID\":[1,2,3], \"Name\":[\"Alice\",\"Bob\",\"Charlie\"]}\n",
    "df2 = {\"ID\":[1,2,4], \"Score\":[85,90,95]}\n",
    "'''\n",
    "df1 = {\"ID\":[1,2,3], \"Name\":[\"Alice\",\"Bob\",\"Charlie\"]}\n",
    "df2 = {\"ID\":[1,2,4], \"Score\":[85,90,95]}\n",
    "\n",
    "table1 = pd.DataFrame(df1)\n",
    "table2 = pd.DataFrame(df2)\n",
    "\n",
    "print(table1)\n",
    "print(table2)\n",
    "\n"
   ]
  },
  {
   "cell_type": "code",
   "execution_count": 2,
   "id": "a96f0d7c",
   "metadata": {},
   "outputs": [
    {
     "name": "stdout",
     "output_type": "stream",
     "text": [
      "   ID   Name  Score\n",
      "0   1  Alice     85\n",
      "1   2    Bob     90\n"
     ]
    }
   ],
   "source": [
    "#inner join\n",
    "inner_table = pd.merge(table1,table2,on = \"ID\")\n",
    "print(inner_table)"
   ]
  },
  {
   "cell_type": "code",
   "execution_count": 3,
   "id": "eb23cf79",
   "metadata": {},
   "outputs": [
    {
     "name": "stdout",
     "output_type": "stream",
     "text": [
      "   ID     Name  Score\n",
      "0   1    Alice   85.0\n",
      "1   2      Bob   90.0\n",
      "2   3  Charlie    NaN\n"
     ]
    }
   ],
   "source": [
    "#left join\n",
    "left_table = pd.merge(table1,table2,on = \"ID\",how = \"left\")\n",
    "print(left_table)"
   ]
  },
  {
   "cell_type": "code",
   "execution_count": 4,
   "id": "795f616f",
   "metadata": {},
   "outputs": [
    {
     "name": "stdout",
     "output_type": "stream",
     "text": [
      "   ID   Name  Score\n",
      "0   1  Alice     85\n",
      "1   2    Bob     90\n",
      "2   4    NaN     95\n"
     ]
    }
   ],
   "source": [
    "#right join\n",
    "right_join = pd.merge(table1,table2,on = \"ID\",how = \"right\")\n",
    "print(right_join)"
   ]
  },
  {
   "cell_type": "code",
   "execution_count": 6,
   "id": "244da1cf",
   "metadata": {},
   "outputs": [
    {
     "name": "stdout",
     "output_type": "stream",
     "text": [
      "   ID     Name  Score\n",
      "0   1    Alice   85.0\n",
      "1   2      Bob   90.0\n",
      "2   3  Charlie    NaN\n",
      "3   4      NaN   95.0\n"
     ]
    }
   ],
   "source": [
    "#outter join\n",
    "outter_join = pd.merge(table1,table2,on = \"ID\",how = \"outer\")\n",
    "print(outter_join)"
   ]
  },
  {
   "cell_type": "code",
   "execution_count": 9,
   "id": "b7589acd",
   "metadata": {},
   "outputs": [
    {
     "name": "stdout",
     "output_type": "stream",
     "text": [
      "   ID     Name  Score\n",
      "0   1    Alice    NaN\n",
      "1   2      Bob    NaN\n",
      "2   3  Charlie    NaN\n",
      "3   1      NaN   85.0\n",
      "4   2      NaN   90.0\n",
      "5   4      NaN   95.0\n",
      "**********************************\n",
      "   ID     Name  ID  Score\n",
      "0   1    Alice   1     85\n",
      "1   2      Bob   2     90\n",
      "2   3  Charlie   4     95\n"
     ]
    }
   ],
   "source": [
    "#concatination : \n",
    "verti_concat = pd.concat([table1,table2],axis=0,ignore_index= True)\n",
    "print(verti_concat)\n",
    "\n",
    "print(\"**********************************\")\n",
    "\n",
    "hori_concat = pd.concat([table1,table2],axis=1,ignore_index=False)\n",
    "print(hori_concat)"
   ]
  },
  {
   "cell_type": "code",
   "execution_count": null,
   "id": "d3ee3b52",
   "metadata": {},
   "outputs": [],
   "source": []
  }
 ],
 "metadata": {
  "kernelspec": {
   "display_name": "my_venv",
   "language": "python",
   "name": "python3"
  },
  "language_info": {
   "codemirror_mode": {
    "name": "ipython",
    "version": 3
   },
   "file_extension": ".py",
   "mimetype": "text/x-python",
   "name": "python",
   "nbconvert_exporter": "python",
   "pygments_lexer": "ipython3",
   "version": "3.13.1"
  }
 },
 "nbformat": 4,
 "nbformat_minor": 5
}
